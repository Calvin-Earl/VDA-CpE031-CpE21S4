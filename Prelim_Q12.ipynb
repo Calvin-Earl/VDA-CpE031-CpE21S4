{
  "nbformat": 4,
  "nbformat_minor": 0,
  "metadata": {
    "colab": {
      "provenance": [],
      "authorship_tag": "ABX9TyNwGnoNwpcpF5wWd8ZUaKns",
      "include_colab_link": true
    },
    "kernelspec": {
      "name": "python3",
      "display_name": "Python 3"
    },
    "language_info": {
      "name": "python"
    }
  },
  "cells": [
    {
      "cell_type": "markdown",
      "metadata": {
        "id": "view-in-github",
        "colab_type": "text"
      },
      "source": [
        "<a href=\"https://colab.research.google.com/github/Calvin-Earl/VDA-CpE031-CpE21S4/blob/main/Prelim_Q12.ipynb\" target=\"_parent\"><img src=\"https://colab.research.google.com/assets/colab-badge.svg\" alt=\"Open In Colab\"/></a>"
      ]
    },
    {
      "cell_type": "code",
      "source": [
        "import pandas as pd\n",
        "print(\"Original DataFrame\")\n",
        "data = {\"col1\" : [1,4,3,4,5],\"col2\" : [4,5,6,7,8], \"col3\" : [7,8,9,0,1]}\n",
        "rows = [0,1,2,3,4]\n",
        "df = pd.DataFrame(data = data, index = rows)\n",
        "print(df)\n",
        "\n",
        "#Removing row 2\n",
        "df_drop3 = df.drop(1)\n",
        "print(\"New DatFrame\")\n",
        "print(df_drop3)"
      ],
      "metadata": {
        "colab": {
          "base_uri": "https://localhost:8080/"
        },
        "id": "tf1T0zInGJ0k",
        "outputId": "d1df3085-585c-4322-87d7-9507e14ec96d"
      },
      "execution_count": 25,
      "outputs": [
        {
          "output_type": "stream",
          "name": "stdout",
          "text": [
            "Original DataFrame\n",
            "   col1  col2  col3\n",
            "0     1     4     7\n",
            "1     4     5     8\n",
            "2     3     6     9\n",
            "3     4     7     0\n",
            "4     5     8     1\n",
            "New DatFrame\n",
            "   col1  col2  col3\n",
            "0     1     4     7\n",
            "2     3     6     9\n",
            "3     4     7     0\n",
            "4     5     8     1\n"
          ]
        }
      ]
    }
  ]
}