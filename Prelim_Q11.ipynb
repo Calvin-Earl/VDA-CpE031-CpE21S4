{
  "nbformat": 4,
  "nbformat_minor": 0,
  "metadata": {
    "colab": {
      "provenance": [],
      "authorship_tag": "ABX9TyOldUpiC80n7X/HXw8ZQnDq",
      "include_colab_link": true
    },
    "kernelspec": {
      "name": "python3",
      "display_name": "Python 3"
    },
    "language_info": {
      "name": "python"
    }
  },
  "cells": [
    {
      "cell_type": "markdown",
      "metadata": {
        "id": "view-in-github",
        "colab_type": "text"
      },
      "source": [
        "<a href=\"https://colab.research.google.com/github/Calvin-Earl/VDA-CpE031-CpE21S4/blob/main/Prelim_Q11.ipynb\" target=\"_parent\"><img src=\"https://colab.research.google.com/assets/colab-badge.svg\" alt=\"Open In Colab\"/></a>"
      ]
    },
    {
      "cell_type": "code",
      "execution_count": 15,
      "metadata": {
        "colab": {
          "base_uri": "https://localhost:8080/"
        },
        "id": "_bjQYo2D9rIc",
        "outputId": "10b62f0e-d9e9-481c-8e5f-22c9b86e0287"
      },
      "outputs": [
        {
          "output_type": "stream",
          "name": "stdout",
          "text": [
            "    X   Y   Z\n",
            "0  78  84  86\n",
            "1  85  94  97\n",
            "2  96  89  96\n",
            "3  80  83  72\n",
            "4  86  86  83\n"
          ]
        }
      ],
      "source": [
        "import pandas as pd\n",
        "values = {'X' : [78, 85, 96, 80, 86], 'Y' : [84, 94, 89, 83, 86], 'Z' : [86, 97, 96, 72, 83]}\n",
        "row = [0, 1, 2, 3, 4]\n",
        "df = pd.DataFrame(data = values, index = row)\n",
        "print(df)"
      ]
    }
  ]
}