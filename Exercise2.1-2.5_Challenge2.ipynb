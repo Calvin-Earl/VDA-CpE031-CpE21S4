{
  "nbformat": 4,
  "nbformat_minor": 0,
  "metadata": {
    "colab": {
      "provenance": [],
      "authorship_tag": "ABX9TyPpDKyIvM7D7neBuylxZ03R",
      "include_colab_link": true
    },
    "kernelspec": {
      "name": "python3",
      "display_name": "Python 3"
    },
    "language_info": {
      "name": "python"
    }
  },
  "cells": [
    {
      "cell_type": "markdown",
      "metadata": {
        "id": "view-in-github",
        "colab_type": "text"
      },
      "source": [
        "<a href=\"https://colab.research.google.com/github/Calvin-Earl/VDA-CpE031-CpE21S4/blob/main/Exercise2.1-2.5_Challenge2.ipynb\" target=\"_parent\"><img src=\"https://colab.research.google.com/assets/colab-badge.svg\" alt=\"Open In Colab\"/></a>"
      ]
    },
    {
      "cell_type": "markdown",
      "source": [
        "**Exercise 2.1**"
      ],
      "metadata": {
        "id": "e0JGcp9cOJRA"
      }
    },
    {
      "cell_type": "code",
      "execution_count": 14,
      "metadata": {
        "colab": {
          "base_uri": "https://localhost:8080/"
        },
        "id": "TKl0_Tr7vfN8",
        "outputId": "e025b9b4-1e82-42cc-dc23-93de100f7f46"
      },
      "outputs": [
        {
          "output_type": "stream",
          "name": "stdout",
          "text": [
            "  animals  height\n",
            "0     Cat      13\n",
            "1     Dog      17\n",
            "2  Rabbit       8\n"
          ]
        }
      ],
      "source": [
        "import pandas as pd\n",
        "\n",
        "mydataset = {\n",
        "'animals': [\"Cat\", \"Dog\", \"Rabbit\"],\n",
        "'height': [13, 17, 8]\n",
        "}\n",
        "\n",
        "myvar = pd.DataFrame(mydataset)\n",
        "\n",
        "print(myvar)"
      ]
    },
    {
      "cell_type": "markdown",
      "source": [
        "**Exercise 2.2**"
      ],
      "metadata": {
        "id": "_mPgGOIuOO0I"
      }
    },
    {
      "cell_type": "code",
      "source": [
        "import pandas as pd\n",
        "a = [1,7,2,5,8,3]\n",
        "myvar = pd.Series(a)\n",
        "print(myvar)"
      ],
      "metadata": {
        "colab": {
          "base_uri": "https://localhost:8080/"
        },
        "id": "HIkYnyDdzG2S",
        "outputId": "b0ae9a74-1865-4ca8-a1b2-bc8497a36886"
      },
      "execution_count": 16,
      "outputs": [
        {
          "output_type": "stream",
          "name": "stdout",
          "text": [
            "0    1\n",
            "1    7\n",
            "2    2\n",
            "3    5\n",
            "4    8\n",
            "5    3\n",
            "dtype: int64\n"
          ]
        }
      ]
    },
    {
      "cell_type": "markdown",
      "source": [
        "**Exercise 2.3**"
      ],
      "metadata": {
        "id": "DtsMCwNVORVD"
      }
    },
    {
      "cell_type": "code",
      "source": [
        "import pandas as pd\n",
        "data = {\"age\": [42, 38, 39], \"weight\": [50, 40, 45]}\n",
        "myvar = pd.DataFrame(data)\n",
        "print(myvar)\n",
        "print(myvar.loc[0])\n",
        "print(myvar.loc[[0,1]])"
      ],
      "metadata": {
        "colab": {
          "base_uri": "https://localhost:8080/"
        },
        "id": "ecM61W--3Wgt",
        "outputId": "d4f5e611-c895-4c84-fc9a-81648c8b1537"
      },
      "execution_count": 31,
      "outputs": [
        {
          "output_type": "stream",
          "name": "stdout",
          "text": [
            "   age  weight\n",
            "0   42      50\n",
            "1   38      40\n",
            "2   39      45\n",
            "age       42\n",
            "weight    50\n",
            "Name: 0, dtype: int64\n",
            "   age  weight\n",
            "0   42      50\n",
            "1   38      40\n"
          ]
        }
      ]
    },
    {
      "cell_type": "markdown",
      "source": [
        "**Exercise 2.4**"
      ],
      "metadata": {
        "id": "y-vG-dseOWS_"
      }
    },
    {
      "cell_type": "code",
      "source": [
        "import pandas as pd\n",
        "s1 = pd.Series([0,4,8])\n",
        "s2 = pd.Series([1,5,9])\n",
        "s3 = pd.Series([2,6,10])\n",
        "\n",
        "dframe = pd.DataFrame([s1, s2, s3])\n",
        "print(dframe.loc[1:])"
      ],
      "metadata": {
        "colab": {
          "base_uri": "https://localhost:8080/"
        },
        "id": "C4Us1zEz9Oj4",
        "outputId": "8b8bcac9-64df-4690-8366-c7eaf68c71ed"
      },
      "execution_count": 46,
      "outputs": [
        {
          "output_type": "stream",
          "name": "stdout",
          "text": [
            "   0  1   2\n",
            "1  1  5   9\n",
            "2  2  6  10\n"
          ]
        }
      ]
    },
    {
      "cell_type": "markdown",
      "source": [
        "**Exercise 2.5**"
      ],
      "metadata": {
        "id": "nZ0nK5SDOYNb"
      }
    },
    {
      "cell_type": "code",
      "source": [
        "import pandas as pd\n",
        "s1 = pd.Series([0,4,8])\n",
        "s2 = pd.Series([1,5,9])\n",
        "s3 = pd.Series([2,6,10])\n",
        "s4 = pd.Series([5,10,15])\n",
        "\n",
        "dframe = pd.DataFrame(data = [s1, s2, s3, s4], index = [0, 1, 2, 3], columns = [0, 1, 2])\n",
        "print(dframe)"
      ],
      "metadata": {
        "colab": {
          "base_uri": "https://localhost:8080/"
        },
        "id": "4CePZEPmNE8f",
        "outputId": "78c69abb-6f3b-48ae-f359-6f277be8e564"
      },
      "execution_count": 45,
      "outputs": [
        {
          "output_type": "stream",
          "name": "stdout",
          "text": [
            "   0   1   2\n",
            "0  0   4   8\n",
            "1  1   5   9\n",
            "2  2   6  10\n",
            "3  5  10  15\n"
          ]
        }
      ]
    },
    {
      "cell_type": "markdown",
      "source": [
        "**Challenge 2:** How are you going to delete indices no. 0, 1, 3 leaving only all items in index?\n"
      ],
      "metadata": {
        "id": "k_jY26yEOAa0"
      }
    },
    {
      "cell_type": "code",
      "source": [
        "import pandas as pd\n",
        "s1 = pd.Series([0,4,8])\n",
        "s2 = pd.Series([1,5,9])\n",
        "s3 = pd.Series([2,6,10])\n",
        "s4 = pd.Series([5,10,15])\n",
        "\n",
        "dframe = pd.DataFrame(data = [s1, s2, s3, s4], index = [0, 1, 2, 3], columns = [0, 1, 2])\n",
        "\n",
        "dframe = dframe.drop([0,1,3])\n",
        "print(dframe)"
      ],
      "metadata": {
        "colab": {
          "base_uri": "https://localhost:8080/"
        },
        "id": "-yA6WWcdN_s_",
        "outputId": "b14b75c5-6dfe-43ec-8d0a-5e0fe4ba9185"
      },
      "execution_count": 44,
      "outputs": [
        {
          "output_type": "stream",
          "name": "stdout",
          "text": [
            "   0  1   2\n",
            "2  2  6  10\n"
          ]
        }
      ]
    }
  ]
}