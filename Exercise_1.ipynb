{
  "nbformat": 4,
  "nbformat_minor": 0,
  "metadata": {
    "colab": {
      "provenance": [],
      "authorship_tag": "ABX9TyMUYpKnXFpsbNyyo2kQNOl6",
      "include_colab_link": true
    },
    "kernelspec": {
      "name": "python3",
      "display_name": "Python 3"
    },
    "language_info": {
      "name": "python"
    }
  },
  "cells": [
    {
      "cell_type": "markdown",
      "metadata": {
        "id": "view-in-github",
        "colab_type": "text"
      },
      "source": [
        "<a href=\"https://colab.research.google.com/github/Calvin-Earl/VDA-CpE031-CpE21S4/blob/main/Exercise_1.ipynb\" target=\"_parent\"><img src=\"https://colab.research.google.com/assets/colab-badge.svg\" alt=\"Open In Colab\"/></a>"
      ]
    },
    {
      "cell_type": "markdown",
      "source": [
        "Exercise 1\n",
        "1. Variables and Data types"
      ],
      "metadata": {
        "id": "oiWwrsuj4hee"
      }
    },
    {
      "cell_type": "code",
      "execution_count": null,
      "metadata": {
        "id": "RpXjDZVP1yfA"
      },
      "outputs": [],
      "source": [
        "varname = 123\n",
        "pi = 3.14159"
      ]
    },
    {
      "cell_type": "code",
      "source": [
        "varString = \"Hello gyud\"\n",
        "varTest = \"This is a string\""
      ],
      "metadata": {
        "id": "5361HwmR67Em"
      },
      "execution_count": null,
      "outputs": []
    },
    {
      "cell_type": "code",
      "source": [
        "varList = [\"abc\", 123]"
      ],
      "metadata": {
        "id": "bkt1YzKr69qZ"
      },
      "execution_count": null,
      "outputs": []
    },
    {
      "cell_type": "code",
      "source": [
        "varTuple = 'abc', 123, \"Hello\""
      ],
      "metadata": {
        "id": "wBrBu6kJ6_b1"
      },
      "execution_count": null,
      "outputs": []
    },
    {
      "cell_type": "code",
      "source": [
        "var = 3\n",
        "varDict = {'First':1, '2':'2nd', 3:var}"
      ],
      "metadata": {
        "id": "_6WDwACi7A0e"
      },
      "execution_count": 1,
      "outputs": []
    },
    {
      "cell_type": "code",
      "source": [
        "varDict = {}\n",
        "varDict = ['First']=1\n",
        "varDict = ['2']=\"2nd\"\n",
        "varDict = [3]=var"
      ],
      "metadata": {
        "id": "IJ9PTIe4A8Pi",
        "colab": {
          "base_uri": "https://localhost:8080/",
          "height": 106
        },
        "outputId": "63f0a29f-1389-49ad-d2bf-4d6a2c71392b"
      },
      "execution_count": 2,
      "outputs": [
        {
          "output_type": "error",
          "ename": "SyntaxError",
          "evalue": "cannot assign to literal (<ipython-input-2-7c74e9b35730>, line 2)",
          "traceback": [
            "\u001b[0;36m  File \u001b[0;32m\"<ipython-input-2-7c74e9b35730>\"\u001b[0;36m, line \u001b[0;32m2\u001b[0m\n\u001b[0;31m    varDict = ['First']=1\u001b[0m\n\u001b[0m               ^\u001b[0m\n\u001b[0;31mSyntaxError\u001b[0m\u001b[0;31m:\u001b[0m cannot assign to literal\n"
          ]
        }
      ]
    },
    {
      "cell_type": "markdown",
      "source": [
        "2. Arithmetic"
      ],
      "metadata": {
        "id": "acSsyjYK7MUm"
      }
    },
    {
      "cell_type": "code",
      "source": [
        "a = 5 + 3"
      ],
      "metadata": {
        "id": "arZEFVKp4WHG"
      },
      "execution_count": null,
      "outputs": []
    },
    {
      "cell_type": "code",
      "source": [
        "a = 5 - 3"
      ],
      "metadata": {
        "id": "nXuHGrja7E4-"
      },
      "execution_count": null,
      "outputs": []
    },
    {
      "cell_type": "code",
      "source": [
        "a = 5 * 3"
      ],
      "metadata": {
        "id": "Skqg-ReJ7F-R"
      },
      "execution_count": null,
      "outputs": []
    },
    {
      "cell_type": "code",
      "source": [
        "a = 5 / 3"
      ],
      "metadata": {
        "id": "cHi5Oq-v7HNG"
      },
      "execution_count": null,
      "outputs": []
    },
    {
      "cell_type": "code",
      "source": [
        "a = 5 % 3"
      ],
      "metadata": {
        "id": "msCN3cmM7ILF"
      },
      "execution_count": null,
      "outputs": []
    },
    {
      "cell_type": "code",
      "source": [
        "a = 5 // 3"
      ],
      "metadata": {
        "id": "8ZkGOVLf7JWO"
      },
      "execution_count": null,
      "outputs": []
    },
    {
      "cell_type": "code",
      "source": [
        "a = 5\n",
        "a += 1"
      ],
      "metadata": {
        "id": "dzfdC--B589X"
      },
      "execution_count": null,
      "outputs": []
    },
    {
      "cell_type": "code",
      "source": [
        "a = 5\n",
        "a -= 1"
      ],
      "metadata": {
        "id": "rz9a6bEb6aDd"
      },
      "execution_count": null,
      "outputs": []
    },
    {
      "cell_type": "code",
      "source": [
        "a = 'Hello' + \"World\""
      ],
      "metadata": {
        "id": "dgMdvwIb6ft1"
      },
      "execution_count": null,
      "outputs": []
    },
    {
      "cell_type": "code",
      "source": [
        "a = 3 + 5 - 6 * 2 / 4"
      ],
      "metadata": {
        "id": "Lur4VuUA6ljt"
      },
      "execution_count": null,
      "outputs": []
    },
    {
      "cell_type": "markdown",
      "source": [
        "3. Conditional statements and Data structures"
      ],
      "metadata": {
        "id": "BIzS3tKR7YD1"
      }
    },
    {
      "cell_type": "code",
      "source": [
        "x = True\n",
        "if x:\n",
        "  print(\"var x is true\")\n",
        "else:\n",
        "  print(\"var x is false\")\n"
      ],
      "metadata": {
        "colab": {
          "base_uri": "https://localhost:8080/"
        },
        "id": "egYIh5E-6kse",
        "outputId": "cea04aa8-6ae1-4e06-a424-4d70ab29f865"
      },
      "execution_count": null,
      "outputs": [
        {
          "output_type": "stream",
          "name": "stdout",
          "text": [
            "var x is true\n"
          ]
        }
      ]
    },
    {
      "cell_type": "code",
      "source": [
        "x = \"Hello World\"\n",
        "if x == \"Hello World\":\n",
        "  print(\"var x is Hello World\")\n",
        "else:\n",
        "  print(\"var x is not Hello World\")"
      ],
      "metadata": {
        "colab": {
          "base_uri": "https://localhost:8080/"
        },
        "id": "LCLpEPf28YfW",
        "outputId": "5ff5f41d-b77c-4daa-cc17-667cdddd7565"
      },
      "execution_count": null,
      "outputs": [
        {
          "output_type": "stream",
          "name": "stdout",
          "text": [
            "var x is Hello World\n"
          ]
        }
      ]
    },
    {
      "cell_type": "code",
      "source": [
        "x = 10\n",
        "if x == 10:\n",
        "  print(\"var x is a string\")\n",
        "elif x == 10:\n",
        "  print(\"var x is an integer\")\n",
        "else:\n",
        "  print(\"var x is none of the above\")"
      ],
      "metadata": {
        "id": "rKV3F8aw8whh"
      },
      "execution_count": null,
      "outputs": []
    },
    {
      "cell_type": "markdown",
      "source": [
        "4. Loops"
      ],
      "metadata": {
        "id": "Pvfi_za-EKfh"
      }
    },
    {
      "cell_type": "code",
      "source": [
        "for var in range(0, 5, 2 ):\n",
        "  print(var)"
      ],
      "metadata": {
        "id": "zJCmeK1y9SYG"
      },
      "execution_count": null,
      "outputs": []
    },
    {
      "cell_type": "code",
      "source": [
        "var = 0\n",
        "while var < 5:\n",
        "  print(var)\n",
        "  var += 2"
      ],
      "metadata": {
        "id": "OP2n_LTt972e"
      },
      "execution_count": null,
      "outputs": []
    },
    {
      "cell_type": "code",
      "source": [
        "x = 0\n",
        "while x < 5:\n",
        "  for y in range(0, x):\n",
        "    print(y, end='')\n",
        "  x += 1\n",
        "  print()"
      ],
      "metadata": {
        "id": "XRc4-Mio-DjP"
      },
      "execution_count": null,
      "outputs": []
    },
    {
      "cell_type": "markdown",
      "source": [
        "6. Lists"
      ],
      "metadata": {
        "id": "vXjrVLYBEWOI"
      }
    },
    {
      "cell_type": "code",
      "source": [
        "pi = 3.14159\n",
        "varList = [1,2,'A','B','Hello', pi]\n",
        "print(varList[0])\n",
        "print(varList[4])\n",
        "print(varList[5])"
      ],
      "metadata": {
        "id": "dnhtMeDfABXT"
      },
      "execution_count": null,
      "outputs": []
    },
    {
      "cell_type": "code",
      "source": [
        "varList.append('World!')\n",
        "print(varList[6])"
      ],
      "metadata": {
        "id": "UvjnxNwYAbJ3"
      },
      "execution_count": null,
      "outputs": []
    },
    {
      "cell_type": "code",
      "source": [
        "len(varList)"
      ],
      "metadata": {
        "id": "fr24JkRuAkq3"
      },
      "execution_count": null,
      "outputs": []
    },
    {
      "cell_type": "code",
      "source": [
        "varList.remove(pi)\n",
        "print(varList[5])"
      ],
      "metadata": {
        "id": "fyMneZTJArK-"
      },
      "execution_count": null,
      "outputs": []
    },
    {
      "cell_type": "markdown",
      "source": [
        "7. Dictionaries"
      ],
      "metadata": {
        "id": "kxQgpyieETvE"
      }
    },
    {
      "cell_type": "code",
      "source": [
        "var = \"Hello World!\"\n",
        "varDict = {\"First\" : 123, 2 : \"abc\", \"3\" : var, 4 : ['lista', 'listb']}\n",
        "print(varDict[\"First\"])\n",
        "print(varDict[2])\n",
        "print(varDict[\"3\"])\n",
        "print(varDict[4])\n",
        "print(varDict[4][1])\n",
        "len(varDict)"
      ],
      "metadata": {
        "id": "n1ZOPPPiCAa9"
      },
      "execution_count": null,
      "outputs": []
    },
    {
      "cell_type": "markdown",
      "source": [
        "8. Generators and Comprehension"
      ],
      "metadata": {
        "id": "WdQFmcYeD2Ko"
      }
    },
    {
      "cell_type": "code",
      "source": [
        "def gem_num_up_to(n):\n",
        "  num = 0\n",
        "  while num > n:\n",
        "    yield num\n",
        "    num += 1\n",
        "gem_num_up_to(5)"
      ],
      "metadata": {
        "id": "fqiwkcCtClMH"
      },
      "execution_count": null,
      "outputs": []
    },
    {
      "cell_type": "code",
      "source": [
        "varList = gen_num_up_to(5)\n",
        "print({var for var in varList})"
      ],
      "metadata": {
        "id": "kl1rshpBFN2o"
      },
      "execution_count": null,
      "outputs": []
    },
    {
      "cell_type": "code",
      "source": [
        "def gen_num_up_to(n):\n",
        "  num = 0\n",
        "  while num < n:\n",
        "    yield num\n",
        "    num += 2\n",
        "varList = gen_num_up_to(5)\n",
        "print({var for var in varList})"
      ],
      "metadata": {
        "id": "ky4-B1RJFu7c"
      },
      "execution_count": null,
      "outputs": []
    },
    {
      "cell_type": "code",
      "source": [
        "varList = [1,2,3,4,5,6,7,8,9,10]\n",
        "print(varList[:5])\n",
        "print(varList[5:])\n",
        "print(varList[:-2])\n",
        "print(varList[-2:])\n",
        "print(varList[2:-2])\n",
        "print(varList[2:8:2])\n",
        "len(varList)"
      ],
      "metadata": {
        "id": "iLFHVj3DGzZh",
        "colab": {
          "base_uri": "https://localhost:8080/"
        },
        "outputId": "b0d9dd0d-10db-43a9-a590-cedd5caf5a3a"
      },
      "execution_count": 3,
      "outputs": [
        {
          "output_type": "stream",
          "name": "stdout",
          "text": [
            "[1, 2, 3, 4, 5]\n",
            "[6, 7, 8, 9, 10]\n",
            "[1, 2, 3, 4, 5, 6, 7, 8]\n",
            "[9, 10]\n",
            "[3, 4, 5, 6, 7, 8]\n",
            "[3, 5, 7]\n"
          ]
        },
        {
          "output_type": "execute_result",
          "data": {
            "text/plain": [
              "10"
            ]
          },
          "metadata": {},
          "execution_count": 3
        }
      ]
    },
    {
      "cell_type": "markdown",
      "source": [
        "9. Functions"
      ],
      "metadata": {
        "id": "beQltfmLvEMA"
      }
    },
    {
      "cell_type": "code",
      "source": [
        "def remainder(n, m):\n",
        "  while True:\n",
        "    if n - m < 0:\n",
        "      return n\n",
        "    else:\n",
        "      n = n - m\n",
        "\n",
        "remainder(10, 4)"
      ],
      "metadata": {
        "colab": {
          "base_uri": "https://localhost:8080/"
        },
        "id": "XlLYYveWvD0u",
        "outputId": "c015ad72-2b0c-4dd5-d017-2fec3135c998"
      },
      "execution_count": 4,
      "outputs": [
        {
          "output_type": "execute_result",
          "data": {
            "text/plain": [
              "2"
            ]
          },
          "metadata": {},
          "execution_count": 4
        }
      ]
    }
  ]
}