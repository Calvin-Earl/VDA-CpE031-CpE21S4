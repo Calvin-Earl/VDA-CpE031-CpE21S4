{
  "nbformat": 4,
  "nbformat_minor": 0,
  "metadata": {
    "colab": {
      "provenance": [],
      "authorship_tag": "ABX9TyN+30gwAWwTHZZCiER7mO1s",
      "include_colab_link": true
    },
    "kernelspec": {
      "name": "python3",
      "display_name": "Python 3"
    },
    "language_info": {
      "name": "python"
    }
  },
  "cells": [
    {
      "cell_type": "markdown",
      "metadata": {
        "id": "view-in-github",
        "colab_type": "text"
      },
      "source": [
        "<a href=\"https://colab.research.google.com/github/Calvin-Earl/VDA-CpE031-CpE21S4/blob/main/Challenge_2.ipynb\" target=\"_parent\"><img src=\"https://colab.research.google.com/assets/colab-badge.svg\" alt=\"Open In Colab\"/></a>"
      ]
    },
    {
      "cell_type": "markdown",
      "source": [
        "**Challenge 2: Coin Flip**\n",
        "\n",
        "Create a function coin flip() that simulates coin flips repeated n times, with 0 representing tails and 1 representing heads. Make a function generator with the parameter n as the number of coin flips.\n",
        "\n",
        "Use the numpy library as np and the function of np.random.randint() in order to simulate a coin flip. After defining this function, return the result as a List using List Comprehension discussed previously"
      ],
      "metadata": {
        "id": "OsdO-P_VtUO_"
      }
    },
    {
      "cell_type": "code",
      "execution_count": 10,
      "metadata": {
        "colab": {
          "base_uri": "https://localhost:8080/"
        },
        "id": "lATJpqEZs1ro",
        "outputId": "0ca9b304-fd08-4132-81f4-46bea82396b7"
      },
      "outputs": [
        {
          "output_type": "stream",
          "name": "stdout",
          "text": [
            "Enter number of coin flips:4\n",
            "[1, 0, 0, 1]\n"
          ]
        }
      ],
      "source": [
        "import numpy as np\n",
        "\n",
        "def coinflip(n):\n",
        "  for i in range(n):\n",
        "    yield np.random.randint(2)\n",
        "\n",
        "n = int(input(\"Enter number of coin flips:\"))\n",
        "result = [cf for cf in coinflip(n)]\n",
        "\n",
        "print(result)"
      ]
    }
  ]
}