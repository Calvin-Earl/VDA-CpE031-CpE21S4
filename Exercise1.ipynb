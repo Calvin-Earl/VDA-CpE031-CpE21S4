{
  "nbformat": 4,
  "nbformat_minor": 0,
  "metadata": {
    "colab": {
      "provenance": [],
      "authorship_tag": "ABX9TyN8iMYWFZu3DoKkDCYCBeFc",
      "include_colab_link": true
    },
    "kernelspec": {
      "name": "python3",
      "display_name": "Python 3"
    },
    "language_info": {
      "name": "python"
    }
  },
  "cells": [
    {
      "cell_type": "markdown",
      "metadata": {
        "id": "view-in-github",
        "colab_type": "text"
      },
      "source": [
        "<a href=\"https://colab.research.google.com/github/Calvin-Earl/VDA-CpE031-CpE21S4/blob/main/Exercise1.ipynb\" target=\"_parent\"><img src=\"https://colab.research.google.com/assets/colab-badge.svg\" alt=\"Open In Colab\"/></a>"
      ]
    },
    {
      "cell_type": "markdown",
      "source": [
        "Exercise 1\n",
        "1. Variables and Data types"
      ],
      "metadata": {
        "id": "oiWwrsuj4hee"
      }
    },
    {
      "cell_type": "code",
      "execution_count": 15,
      "metadata": {
        "id": "RpXjDZVP1yfA"
      },
      "outputs": [],
      "source": [
        "varname = 123\n",
        "pi = 3.14159"
      ]
    },
    {
      "cell_type": "code",
      "source": [
        "varString = \"Hello gyud\"\n",
        "varTest = \"This is a string\""
      ],
      "metadata": {
        "id": "5361HwmR67Em"
      },
      "execution_count": 14,
      "outputs": []
    },
    {
      "cell_type": "code",
      "source": [
        "varList = [\"abc\", 123]"
      ],
      "metadata": {
        "id": "bkt1YzKr69qZ"
      },
      "execution_count": 13,
      "outputs": []
    },
    {
      "cell_type": "code",
      "source": [
        "varTuple = 'abc', 123, \"Hello\""
      ],
      "metadata": {
        "id": "wBrBu6kJ6_b1"
      },
      "execution_count": 12,
      "outputs": []
    },
    {
      "cell_type": "code",
      "source": [
        "var = 3\n",
        "varDict = {'first':1, '2':'2nd', 3:var}\n",
        "\n",
        "varDict = {}\n",
        "varDict['first']= 1\n",
        "varDict['2'] = '2nd'\n",
        "varDict[3] = var"
      ],
      "metadata": {
        "id": "IJ9PTIe4A8Pi"
      },
      "execution_count": 11,
      "outputs": []
    },
    {
      "cell_type": "markdown",
      "source": [
        "2. Arithmetic"
      ],
      "metadata": {
        "id": "acSsyjYK7MUm"
      }
    },
    {
      "cell_type": "code",
      "source": [
        "a = 5 + 3"
      ],
      "metadata": {
        "id": "arZEFVKp4WHG"
      },
      "execution_count": 16,
      "outputs": []
    },
    {
      "cell_type": "code",
      "source": [
        "a = 5 - 3"
      ],
      "metadata": {
        "id": "nXuHGrja7E4-"
      },
      "execution_count": 17,
      "outputs": []
    },
    {
      "cell_type": "code",
      "source": [
        "a = 5 * 3"
      ],
      "metadata": {
        "id": "Skqg-ReJ7F-R"
      },
      "execution_count": 18,
      "outputs": []
    },
    {
      "cell_type": "code",
      "source": [
        "a = 5 / 3"
      ],
      "metadata": {
        "id": "cHi5Oq-v7HNG"
      },
      "execution_count": 19,
      "outputs": []
    },
    {
      "cell_type": "code",
      "source": [
        "a = 5 % 3"
      ],
      "metadata": {
        "id": "msCN3cmM7ILF"
      },
      "execution_count": 20,
      "outputs": []
    },
    {
      "cell_type": "code",
      "source": [
        "a = 5 // 3"
      ],
      "metadata": {
        "id": "8ZkGOVLf7JWO"
      },
      "execution_count": 21,
      "outputs": []
    },
    {
      "cell_type": "code",
      "source": [
        "a = 5\n",
        "a += 1"
      ],
      "metadata": {
        "id": "dzfdC--B589X"
      },
      "execution_count": 22,
      "outputs": []
    },
    {
      "cell_type": "code",
      "source": [
        "a = 5\n",
        "a -= 1"
      ],
      "metadata": {
        "id": "rz9a6bEb6aDd"
      },
      "execution_count": 23,
      "outputs": []
    },
    {
      "cell_type": "code",
      "source": [
        "a = 'Hello' + \"World\""
      ],
      "metadata": {
        "id": "dgMdvwIb6ft1"
      },
      "execution_count": 24,
      "outputs": []
    },
    {
      "cell_type": "code",
      "source": [
        "a = 3 + 5 - 6 * 2 / 4"
      ],
      "metadata": {
        "id": "Lur4VuUA6ljt"
      },
      "execution_count": 25,
      "outputs": []
    },
    {
      "cell_type": "markdown",
      "source": [
        "3. Conditional statements and Data structures"
      ],
      "metadata": {
        "id": "BIzS3tKR7YD1"
      }
    },
    {
      "cell_type": "code",
      "source": [
        "x = True\n",
        "if x:\n",
        "  print(\"var x is true\")\n",
        "else:\n",
        "  print(\"var x is false\")\n"
      ],
      "metadata": {
        "colab": {
          "base_uri": "https://localhost:8080/"
        },
        "id": "egYIh5E-6kse",
        "outputId": "bef0192b-b0ca-451d-8e5a-bf6cbd62b1ec"
      },
      "execution_count": 26,
      "outputs": [
        {
          "output_type": "stream",
          "name": "stdout",
          "text": [
            "var x is true\n"
          ]
        }
      ]
    },
    {
      "cell_type": "code",
      "source": [
        "x = \"Hello World\"\n",
        "if x == \"Hello World\":\n",
        "  print(\"var x is Hello World\")\n",
        "else:\n",
        "  print(\"var x is not Hello World\")"
      ],
      "metadata": {
        "colab": {
          "base_uri": "https://localhost:8080/"
        },
        "id": "LCLpEPf28YfW",
        "outputId": "2051317c-d4f8-4a62-90d7-330c2caffcb7"
      },
      "execution_count": 27,
      "outputs": [
        {
          "output_type": "stream",
          "name": "stdout",
          "text": [
            "var x is Hello World\n"
          ]
        }
      ]
    },
    {
      "cell_type": "code",
      "source": [
        "x = 10\n",
        "if x == 10:\n",
        "  print(\"var x is a string\")\n",
        "elif x == 10:\n",
        "  print(\"var x is an integer\")\n",
        "else:\n",
        "  print(\"var x is none of the above\")"
      ],
      "metadata": {
        "id": "rKV3F8aw8whh",
        "colab": {
          "base_uri": "https://localhost:8080/"
        },
        "outputId": "847143e1-ed41-47df-ee4c-7571dc20d640"
      },
      "execution_count": 28,
      "outputs": [
        {
          "output_type": "stream",
          "name": "stdout",
          "text": [
            "var x is a string\n"
          ]
        }
      ]
    },
    {
      "cell_type": "markdown",
      "source": [
        "4. Loops"
      ],
      "metadata": {
        "id": "Pvfi_za-EKfh"
      }
    },
    {
      "cell_type": "code",
      "source": [
        "for var in range(0, 5, 2 ):\n",
        "  print(var)"
      ],
      "metadata": {
        "id": "zJCmeK1y9SYG",
        "colab": {
          "base_uri": "https://localhost:8080/"
        },
        "outputId": "2e8e17b7-44de-437f-8b24-06bc7c7b04b7"
      },
      "execution_count": 29,
      "outputs": [
        {
          "output_type": "stream",
          "name": "stdout",
          "text": [
            "0\n",
            "2\n",
            "4\n"
          ]
        }
      ]
    },
    {
      "cell_type": "code",
      "source": [
        "var = 0\n",
        "while var < 5:\n",
        "  print(var)\n",
        "  var += 2"
      ],
      "metadata": {
        "id": "OP2n_LTt972e",
        "colab": {
          "base_uri": "https://localhost:8080/"
        },
        "outputId": "9fd53811-580c-4ce2-c74e-9264860706da"
      },
      "execution_count": 30,
      "outputs": [
        {
          "output_type": "stream",
          "name": "stdout",
          "text": [
            "0\n",
            "2\n",
            "4\n"
          ]
        }
      ]
    },
    {
      "cell_type": "code",
      "source": [
        "x = 0\n",
        "while x < 5:\n",
        "  for y in range(0, x):\n",
        "    print(y, end='')\n",
        "  x += 1\n",
        "  print()"
      ],
      "metadata": {
        "id": "XRc4-Mio-DjP",
        "colab": {
          "base_uri": "https://localhost:8080/"
        },
        "outputId": "0a24e115-2044-4ac1-ba2e-a4749cb6ef6f"
      },
      "execution_count": 31,
      "outputs": [
        {
          "output_type": "stream",
          "name": "stdout",
          "text": [
            "\n",
            "0\n",
            "01\n",
            "012\n",
            "0123\n"
          ]
        }
      ]
    },
    {
      "cell_type": "markdown",
      "source": [
        "6. Lists"
      ],
      "metadata": {
        "id": "vXjrVLYBEWOI"
      }
    },
    {
      "cell_type": "code",
      "source": [
        "pi = 3.14159\n",
        "varList = [1,2,'A','B','Hello', pi]\n",
        "print(varList[0])\n",
        "print(varList[4])\n",
        "print(varList[5])"
      ],
      "metadata": {
        "id": "dnhtMeDfABXT",
        "colab": {
          "base_uri": "https://localhost:8080/"
        },
        "outputId": "87d59489-84d9-4b47-cd89-a32991502a26"
      },
      "execution_count": 32,
      "outputs": [
        {
          "output_type": "stream",
          "name": "stdout",
          "text": [
            "1\n",
            "Hello\n",
            "3.14159\n"
          ]
        }
      ]
    },
    {
      "cell_type": "code",
      "source": [
        "varList.append('World!')\n",
        "print(varList[6])"
      ],
      "metadata": {
        "id": "UvjnxNwYAbJ3",
        "colab": {
          "base_uri": "https://localhost:8080/"
        },
        "outputId": "444383b6-5b1f-424b-cea0-2decc8234683"
      },
      "execution_count": 33,
      "outputs": [
        {
          "output_type": "stream",
          "name": "stdout",
          "text": [
            "World!\n"
          ]
        }
      ]
    },
    {
      "cell_type": "code",
      "source": [
        "len(varList)"
      ],
      "metadata": {
        "id": "fr24JkRuAkq3",
        "colab": {
          "base_uri": "https://localhost:8080/"
        },
        "outputId": "f0b91871-bf5b-4da5-847c-063bdcb5c068"
      },
      "execution_count": 34,
      "outputs": [
        {
          "output_type": "execute_result",
          "data": {
            "text/plain": [
              "7"
            ]
          },
          "metadata": {},
          "execution_count": 34
        }
      ]
    },
    {
      "cell_type": "code",
      "source": [
        "varList.remove(pi)\n",
        "print(varList[5])"
      ],
      "metadata": {
        "id": "fyMneZTJArK-",
        "colab": {
          "base_uri": "https://localhost:8080/"
        },
        "outputId": "5f640152-4cde-41fb-847c-644d1178200c"
      },
      "execution_count": 35,
      "outputs": [
        {
          "output_type": "stream",
          "name": "stdout",
          "text": [
            "World!\n"
          ]
        }
      ]
    },
    {
      "cell_type": "markdown",
      "source": [
        "7. Dictionaries"
      ],
      "metadata": {
        "id": "kxQgpyieETvE"
      }
    },
    {
      "cell_type": "code",
      "source": [
        "var = \"Hello World!\"\n",
        "varDict = {\"First\" : 123, 2 : \"abc\", \"3\" : var, 4 : ['lista', 'listb']}\n",
        "print(varDict[\"First\"])\n",
        "print(varDict[2])\n",
        "print(varDict[\"3\"])\n",
        "print(varDict[4])\n",
        "print(varDict[4][1])\n",
        "len(varDict)"
      ],
      "metadata": {
        "id": "n1ZOPPPiCAa9",
        "colab": {
          "base_uri": "https://localhost:8080/"
        },
        "outputId": "b0108f33-d419-4bb9-833c-a85517d9aaf3"
      },
      "execution_count": 36,
      "outputs": [
        {
          "output_type": "stream",
          "name": "stdout",
          "text": [
            "123\n",
            "abc\n",
            "Hello World!\n",
            "['lista', 'listb']\n",
            "listb\n"
          ]
        },
        {
          "output_type": "execute_result",
          "data": {
            "text/plain": [
              "4"
            ]
          },
          "metadata": {},
          "execution_count": 36
        }
      ]
    },
    {
      "cell_type": "markdown",
      "source": [
        "8. Generators and Comprehension"
      ],
      "metadata": {
        "id": "WdQFmcYeD2Ko"
      }
    },
    {
      "cell_type": "code",
      "source": [
        "def gen_num_up_to(n):\n",
        "  num = 0\n",
        "  while num > n:\n",
        "    yield num\n",
        "    num += 1\n",
        "gem_num_up_to(5)"
      ],
      "metadata": {
        "id": "fqiwkcCtClMH",
        "colab": {
          "base_uri": "https://localhost:8080/"
        },
        "outputId": "89cc816e-d561-43b1-f4f1-09aa49d9c0bb"
      },
      "execution_count": 41,
      "outputs": [
        {
          "output_type": "execute_result",
          "data": {
            "text/plain": [
              "<generator object gem_num_up_to at 0x7a4cc27f9850>"
            ]
          },
          "metadata": {},
          "execution_count": 41
        }
      ]
    },
    {
      "cell_type": "code",
      "source": [
        "varList = gen_num_up_to(5)\n",
        "print({var for var in varList})"
      ],
      "metadata": {
        "id": "kl1rshpBFN2o",
        "colab": {
          "base_uri": "https://localhost:8080/"
        },
        "outputId": "dcd4bb85-51ab-4418-fd9a-4129073da949"
      },
      "execution_count": 40,
      "outputs": [
        {
          "output_type": "stream",
          "name": "stdout",
          "text": [
            "{0, 2, 4}\n"
          ]
        }
      ]
    },
    {
      "cell_type": "code",
      "source": [
        "def gen_num_up_to(n):\n",
        "  num = 0\n",
        "  while num < n:\n",
        "    yield num\n",
        "    num += 2\n",
        "varList = gen_num_up_to(5)\n",
        "print({var for var in varList})"
      ],
      "metadata": {
        "id": "ky4-B1RJFu7c",
        "colab": {
          "base_uri": "https://localhost:8080/"
        },
        "outputId": "572138c6-fac1-4054-9c8c-d6e9c10c4750"
      },
      "execution_count": 39,
      "outputs": [
        {
          "output_type": "stream",
          "name": "stdout",
          "text": [
            "{0, 2, 4}\n"
          ]
        }
      ]
    },
    {
      "cell_type": "code",
      "source": [
        "varList = [1,2,3,4,5,6,7,8,9,10]\n",
        "print(varList[:5])\n",
        "print(varList[5:])\n",
        "print(varList[:-2])\n",
        "print(varList[-2:])\n",
        "print(varList[2:-2])\n",
        "print(varList[2:8:2])\n",
        "len(varList)"
      ],
      "metadata": {
        "id": "iLFHVj3DGzZh",
        "colab": {
          "base_uri": "https://localhost:8080/"
        },
        "outputId": "b0d9dd0d-10db-43a9-a590-cedd5caf5a3a"
      },
      "execution_count": 3,
      "outputs": [
        {
          "output_type": "stream",
          "name": "stdout",
          "text": [
            "[1, 2, 3, 4, 5]\n",
            "[6, 7, 8, 9, 10]\n",
            "[1, 2, 3, 4, 5, 6, 7, 8]\n",
            "[9, 10]\n",
            "[3, 4, 5, 6, 7, 8]\n",
            "[3, 5, 7]\n"
          ]
        },
        {
          "output_type": "execute_result",
          "data": {
            "text/plain": [
              "10"
            ]
          },
          "metadata": {},
          "execution_count": 3
        }
      ]
    },
    {
      "cell_type": "markdown",
      "source": [
        "9. Functions"
      ],
      "metadata": {
        "id": "beQltfmLvEMA"
      }
    },
    {
      "cell_type": "code",
      "source": [
        "def remainder(n, m):\n",
        "  while True:\n",
        "    if n - m < 0:\n",
        "      return n\n",
        "    else:\n",
        "      n = n - m\n",
        "\n",
        "remainder(10, 4)"
      ],
      "metadata": {
        "colab": {
          "base_uri": "https://localhost:8080/"
        },
        "id": "XlLYYveWvD0u",
        "outputId": "98fd44a8-cb54-4cb6-f61b-760869b34c5a"
      },
      "execution_count": 42,
      "outputs": [
        {
          "output_type": "execute_result",
          "data": {
            "text/plain": [
              "2"
            ]
          },
          "metadata": {},
          "execution_count": 42
        }
      ]
    }
  ]
}